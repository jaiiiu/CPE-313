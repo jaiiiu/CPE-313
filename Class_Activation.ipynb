{
  "nbformat": 4,
  "nbformat_minor": 0,
  "metadata": {
    "colab": {
      "provenance": []
    },
    "kernelspec": {
      "name": "python3",
      "display_name": "Python 3"
    },
    "language_info": {
      "name": "python"
    }
  },
  "cells": [
    {
      "cell_type": "code",
      "source": [
        "import numpy as np"
      ],
      "metadata": {
        "id": "v1r7Nbg_PZb5"
      },
      "execution_count": 1,
      "outputs": []
    },
    {
      "cell_type": "code",
      "execution_count": 2,
      "metadata": {
        "id": "-WxzEwDYKqM_"
      },
      "outputs": [],
      "source": [
        "class Neuron:\n",
        "  def __init__(self, inputs, weights):\n",
        "    self.inputs = np.array(inputs)\n",
        "    self.weights = np.array(weights)\n",
        "\n",
        "    # Summation\n",
        "    self.sum = (sum(self.inputs*self.weights))/(self.inputs.size)\n",
        "\n",
        "  # Function\n",
        "  def relu(self):\n",
        "    return(np.maximum(0, self.sum))"
      ]
    },
    {
      "cell_type": "code",
      "source": [
        "inputs = [2, 4, 6, 1, 8]\n",
        "weights = [5, 4, 3, 2, 1]\n",
        "\n",
        "test = Neuron(inputs, weights)\n",
        "test.relu()"
      ],
      "metadata": {
        "colab": {
          "base_uri": "https://localhost:8080/"
        },
        "id": "i50bUvaVPp-q",
        "outputId": "f10493da-88f9-4e86-ae9a-687216f6d999"
      },
      "execution_count": 3,
      "outputs": [
        {
          "output_type": "execute_result",
          "data": {
            "text/plain": [
              "10.8"
            ]
          },
          "metadata": {},
          "execution_count": 3
        }
      ]
    }
  ]
}