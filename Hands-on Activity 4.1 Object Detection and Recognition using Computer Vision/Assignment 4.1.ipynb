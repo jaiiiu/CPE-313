{
 "cells": [
  {
   "cell_type": "markdown",
   "id": "708861ae-b797-4e51-a53e-b6c79d4d385a",
   "metadata": {},
   "source": [
    "# Assignment 4.1 Mood Detection with OpenCV\n",
    "Name: Zapanta, Jaison Martin<br>\n",
    "Section: CPE32S8"
   ]
  },
  {
   "cell_type": "markdown",
   "id": "aa0e57f2-2f4e-4d71-9c03-cf7418ae1e8c",
   "metadata": {},
   "source": [
    "## Introduction\n",
    "As an introduction to computer vision, you are to perform the simple task of mood detection. Mood detection is the process of identifying and understanding a person's current emotional state. It can be done through a variety of methods, but we will focus on Facial expression recognition. Facial expressions are one of the most important cues for understanding human emotions. Mood detection systems can use computer vision techniques to analyze facial features and identify specific expressions, such as happiness, sadness, anger, you must attain the following objectives:\n",
    "* Recognize when a face is yours or not.\n",
    "* \n",
    "Recognize only your mood (happy, sad, angry, or confused)\n",
    "* \r\n",
    "Perform testing to show the performance of your implementation."
   ]
  },
  {
   "cell_type": "code",
   "execution_count": 1,
   "id": "bb06a057-3192-4f6a-a141-f6105738492c",
   "metadata": {},
   "outputs": [
    {
     "name": "stdout",
     "output_type": "stream",
     "text": [
      "WARNING:tensorflow:From C:\\Users\\private\\anaconda3\\Lib\\site-packages\\tf_keras\\src\\losses.py:2976: The name tf.losses.sparse_softmax_cross_entropy is deprecated. Please use tf.compat.v1.losses.sparse_softmax_cross_entropy instead.\n",
      "\n"
     ]
    }
   ],
   "source": [
    "import os\n",
    "import sys\n",
    "import cv2\n",
    "import errno\n",
    "import numpy as np\n",
    "from deepface import DeepFace\n",
    "\n",
    "face_cascade = cv2.CascadeClassifier(cv2.data.haarcascades + 'haarcascade_frontalface_default.xml')"
   ]
  },
  {
   "cell_type": "code",
   "execution_count": 2,
   "id": "c3627e92-601b-41dd-bd0e-b668bc908f14",
   "metadata": {},
   "outputs": [],
   "source": [
    "# Function to read images for training\n",
    "def read_images(path, sz=None):\n",
    "    c = 0\n",
    "    X, y = [], []\n",
    "\n",
    "    for dirname, dirnames, filenames in os.walk(path):\n",
    "        for subdirname in dirnames:\n",
    "            subject_path = os.path.join(dirname, subdirname)\n",
    "            for filename in os.listdir(subject_path):\n",
    "                try:\n",
    "                    if(filename == \".directory\"):\n",
    "                        continue\n",
    "                    filepath = os.path.join(subject_path, filename)\n",
    "                    im = cv2.imread(os.path.join(subject_path, filename), cv2.IMREAD_GRAYSCALE)\n",
    "\n",
    "                    # Resize the images to the prescribed size\n",
    "                    if (sz is not None):\n",
    "                        im = cv2.resize(im, (200,200))\n",
    "\n",
    "                    X.append(np.asarray(im, dtype=np.uint8))\n",
    "                    y.append(c)\n",
    "\n",
    "                except IOError as e:\n",
    "                    print(f\"I/O Error({e.errno}): {e.strerror}\")\n",
    "                except:\n",
    "                    print(\"Unexpected error:\", sys.exc_info()[0])\n",
    "                    raise\n",
    "            c = c+1\n",
    "    return [X, y]"
   ]
  },
  {
   "cell_type": "code",
   "execution_count": 3,
   "id": "dc9fcca5-8c9e-40f1-a77c-d002edc27421",
   "metadata": {},
   "outputs": [],
   "source": [
    "# Function for mood detection\n",
    "def detect_mood():\n",
    "    names = ['Zapanta']\n",
    "    [X, y] = read_images(r\"pics/Zapanta\", (200,200))\n",
    "    y = np.asarray(y, dtype=np.int32)\n",
    "\n",
    "    # Train the LBPH algorithm\n",
    "    lbph = cv2.face.LBPHFaceRecognizer_create()\n",
    "    lbph.train(X, y)\n",
    "\n",
    "    camera = cv2.VideoCapture(0)\n",
    "    camera.set(cv2.CAP_PROP_FRAME_WIDTH, 1280)\n",
    "    camera.set(cv2.CAP_PROP_FRAME_WIDTH, 720)\n",
    "\n",
    "    while True:\n",
    "        ret, img = camera.read()\n",
    "        if not ret:\n",
    "            break\n",
    "\n",
    "        gray = cv2.cvtColor(img, cv2.COLOR_BGR2GRAY)\n",
    "        faces = face_cascade.detectMultiScale(gray, 1.3, 5)\n",
    "\n",
    "        for (x, y, w, h) in faces:\n",
    "            # Perform face recognition\n",
    "            roi_gray = gray[y:y+h, x:x+w]\n",
    "            params = lbph.predict(roi_gray)\n",
    "            confidence = params[1]\n",
    "            if confidence < 75:\n",
    "                label = names[params[0]]\n",
    "            else:\n",
    "                label = \"???\"\n",
    "            cv2.rectangle(img, (x, y), (x+w, y+h), (0, 255, 0), 2)\n",
    "\n",
    "            # Perform mood detection\n",
    "            face = img[y:y+h, x:x+w]\n",
    "            results = DeepFace.analyze(face, actions=['emotion'], enforce_detection=False)\n",
    "            if isinstance(results, list):\n",
    "                for result in results:\n",
    "                    emotion = max(result['emotion'].items(), key=lambda x: x[1])[0]\n",
    "                    cv2.putText(img, \"{} ({})\".format(label, emotion), (x, y-10), cv2.FONT_HERSHEY_SIMPLEX, 0.9, (255, 255, 0), 2)\n",
    "            else:\n",
    "                emotion = max(results['emotion'].items(), key=lambda x: x[1])[0]\n",
    "                cv2.putText(img, \"{} ({})\".format(label, emotion), (x, y-10), cv2.FONT_HERSHEY_SIMPLEX, 0.9, (255, 255, 0), 2)\n",
    "\n",
    "        cv2.imshow(\"Mood Detection\", img)\n",
    "        if cv2.waitKey(1) & 0xFF == ord(\"q\"):\n",
    "            break\n",
    "\n",
    "    camera.release()\n",
    "    cv2.destroyAllWindows()"
   ]
  },
  {
   "cell_type": "code",
   "execution_count": 5,
   "id": "6f257bbc-b22b-419a-a9c4-ec8b0f6fdfdf",
   "metadata": {},
   "outputs": [],
   "source": [
    "detect_mood()"
   ]
  },
  {
   "cell_type": "markdown",
   "id": "e02c3bd8-30bc-443d-90cc-67fa84532dc8",
   "metadata": {},
   "source": [
    "### Detecting my face and my mood"
   ]
  },
  {
   "cell_type": "markdown",
   "id": "9fbc90df-57a3-43ec-92bc-2c6120f1be9d",
   "metadata": {},
   "source": [
    "The algorithm used, DeepFace, does not include the mood for \"Confused,\" therefore there is no output for that specific mood. I considered training my own algorithm that includes it, but after much consideration, I figured that I may not have enough time for it."
   ]
  },
  {
   "cell_type": "markdown",
   "id": "339cb0a5-13f8-4cab-9af9-75fa96820cfb",
   "metadata": {},
   "source": [
    "Happy\n",
    "<img src=\"happy.jpg\">"
   ]
  },
  {
   "cell_type": "markdown",
   "id": "439bfcad-afad-4478-b878-306dcd736711",
   "metadata": {},
   "source": [
    "Sad\n",
    "<img src=\"sad.jpg\">"
   ]
  },
  {
   "cell_type": "markdown",
   "id": "2a097d75-3b21-4dff-b58c-5cf5b6a2577f",
   "metadata": {},
   "source": [
    "Angry\n",
    "<img src=\"angry.jpg\">"
   ]
  },
  {
   "cell_type": "markdown",
   "id": "81c5cd15-fe08-4c10-9349-01b9db90bdde",
   "metadata": {},
   "source": [
    "### Detecting other's face and other mood"
   ]
  },
  {
   "cell_type": "markdown",
   "id": "50064e90-df14-4e55-ae1b-07e9c4b1a3a9",
   "metadata": {},
   "source": [
    "Although it cannot detect \"Confused,\" DeepFace can detect other emotions such as:"
   ]
  },
  {
   "cell_type": "markdown",
   "id": "48306010-263e-45a8-9237-379f6efe6d24",
   "metadata": {},
   "source": [
    "Surprised\n",
    "<img src=\"surprise.jpg\">"
   ]
  },
  {
   "cell_type": "markdown",
   "id": "2b86d24e-a77e-4f4b-8f88-fbea638b2420",
   "metadata": {},
   "source": [
    "Fear\n",
    "<img src=\"fear.jpg\">"
   ]
  },
  {
   "cell_type": "markdown",
   "id": "fceb5caf-9273-4031-92ab-039d3126dba9",
   "metadata": {},
   "source": [
    "Disgust\n",
    "<img src=\"disgust.jpg\">"
   ]
  }
 ],
 "metadata": {
  "kernelspec": {
   "display_name": "Python 3 (ipykernel)",
   "language": "python",
   "name": "python3"
  },
  "language_info": {
   "codemirror_mode": {
    "name": "ipython",
    "version": 3
   },
   "file_extension": ".py",
   "mimetype": "text/x-python",
   "name": "python",
   "nbconvert_exporter": "python",
   "pygments_lexer": "ipython3",
   "version": "3.11.7"
  }
 },
 "nbformat": 4,
 "nbformat_minor": 5
}
